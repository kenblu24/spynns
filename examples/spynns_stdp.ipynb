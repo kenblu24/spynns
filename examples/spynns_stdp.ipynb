{
 "cells": [
  {
   "cell_type": "markdown",
   "id": "973a3993-6082-4e54-9d2d-94b0a4d5ef6b",
   "metadata": {},
   "source": [
    "## Install prerequisites"
   ]
  },
  {
   "cell_type": "code",
   "execution_count": null,
   "id": "9a0f3f43-fef6-4d62-b716-0758ae679655",
   "metadata": {},
   "outputs": [],
   "source": [
    "# !pip install tabulate json"
   ]
  },
  {
   "cell_type": "code",
   "execution_count": null,
   "id": "a449a833-2fda-4edd-aca3-fc905a263e8c",
   "metadata": {},
   "outputs": [],
   "source": [
    "# Use this command to install the current directory as a python package in editable mode.\n",
    "# Run the command from the same directory as the pyproject.toml file.\n",
    "# pip install -e ."
   ]
  },
  {
   "cell_type": "code",
   "execution_count": 67,
   "id": "1938fe2f-2f14-4604-bf17-bce913eee2c3",
   "metadata": {
    "execution": {
     "iopub.execute_input": "2024-04-24T21:40:02.950869Z",
     "iopub.status.busy": "2024-04-24T21:40:02.948870Z",
     "iopub.status.idle": "2024-04-24T21:40:02.960369Z",
     "shell.execute_reply": "2024-04-24T21:40:02.959370Z",
     "shell.execute_reply.started": "2024-04-24T21:40:02.950869Z"
    }
   },
   "outputs": [],
   "source": [
    "# import stuff\n",
    "import spynns\n",
    "import tabulate\n",
    "import json\n",
    "import random\n",
    "import sys\n",
    "from itertools import pairwise\n",
    "import math\n",
    "# from IPython.core.debugger import Pdb\n",
    "from spynns.tbp_node import PlasticNode"
   ]
  },
  {
   "cell_type": "code",
   "execution_count": 68,
   "id": "d078b5b3-6cf3-4694-9e48-6a48be6bb20c",
   "metadata": {
    "execution": {
     "iopub.execute_input": "2024-04-24T21:40:03.296369Z",
     "iopub.status.busy": "2024-04-24T21:40:03.296369Z",
     "iopub.status.idle": "2024-04-24T21:40:03.304871Z",
     "shell.execute_reply": "2024-04-24T21:40:03.304372Z",
     "shell.execute_reply.started": "2024-04-24T21:40:03.296369Z"
    }
   },
   "outputs": [
    {
     "name": "stdout",
     "output_type": "stream",
     "text": [
      "4082953305450607197\n"
     ]
    }
   ],
   "source": [
    "seed = random.randint(0, sys.maxsize)\n",
    "rng = random.Random(seed)\n",
    "print(seed)\n",
    "\n",
    "def make_layer(net, n, **kwargs):\n",
    "    return [PlasticNode(net, **kwargs) for _ in range(n)]\n",
    "\n",
    "def layer_rand(net, n, **kwargs):\n",
    "    return [PlasticNode(net,\n",
    "        threshold=rng.uniform(0, 2),\n",
    "        **kwargs,\n",
    "    ) for _ in range(n)]\n",
    "\n",
    "def connectw(parent, child, **kwargs):\n",
    "    parent.add_output(\n",
    "        child,\n",
    "        weight=rng.uniform(0, 2),\n",
    "        **kwargs\n",
    "    )\n",
    "\n",
    "def connectw_multiple(parent, children, **kwargs):\n",
    "    for child in children:\n",
    "        connectw(parent, child, **kwargs)\n",
    "\n",
    "def fully_connectw_layers(parents, children, **kwargs):\n",
    "    for parent in parents:\n",
    "        connectw_multiple(parent, children, **kwargs)\n"
   ]
  },
  {
   "cell_type": "code",
   "execution_count": 106,
   "id": "b02cad6a-240d-4dad-985e-59fd016b4791",
   "metadata": {
    "execution": {
     "iopub.execute_input": "2024-04-24T22:19:01.564396Z",
     "iopub.status.busy": "2024-04-24T22:19:01.563896Z",
     "iopub.status.idle": "2024-04-24T22:19:01.570895Z",
     "shell.execute_reply": "2024-04-24T22:19:01.570396Z",
     "shell.execute_reply.started": "2024-04-24T22:19:01.564396Z"
    }
   },
   "outputs": [
    {
     "data": {
      "text/plain": [
       "[Node at 234d123bb30 w/ Threshold: 0.1, Leak: None, refract: 0.01, connections: ['<Edge w: 0.8591449323988125, d: 0.02, dest: 3bf0>', '<Edge w: 1.6497769066717631, d: 0.02, dest: 12e0>', '<Edge w: 0.2663139461433657, d: 0.02, dest: df70>', '<Edge w: 1.1800750516067615, d: 0.02, dest: d610>', '<Edge w: 1.0893540715799113, d: 0.02, dest: d910>'],\n",
       " Node at 234d1260f50 w/ Threshold: 0.1, Leak: None, refract: 0.01, connections: ['<Edge w: 0.9685357986258842, d: 0.02, dest: 3bf0>', '<Edge w: 0.6598215096011175, d: 0.02, dest: 12e0>', '<Edge w: 1.787766528736834, d: 0.02, dest: df70>', '<Edge w: 0.4827945445039117, d: 0.02, dest: d610>', '<Edge w: 1.5379202424062188, d: 0.02, dest: d910>'],\n",
       " Node at 234d1263380 w/ Threshold: 1.0, Leak: None, refract: 0.01, connections: [],\n",
       " Node at 234d1263ce0 w/ Threshold: 1.0, Leak: None, refract: 0.01, connections: [],\n",
       " Node at 234d12621b0 w/ Threshold: 1.0, Leak: None, refract: 0.01, connections: [],\n",
       " Node at 234d1263200 w/ Threshold: 1.0, Leak: None, refract: 0.01, connections: [],\n",
       " Node at 234d1261640 w/ Threshold: 1.0, Leak: None, refract: 0.01, connections: [],\n",
       " Node at 234d1263bf0 w/ Threshold: 1.309455019205707, Leak: None, refract: 0.1, connections: ['<Edge w: 1.3226739885150667, d: 0.02, dest: c560>', '<Edge w: 1.7936113106388745, d: 0.02, dest: ec90>', '<Edge w: 0.22778461432392372, d: 0.02, dest: e870>', '<Edge w: 0.11668986754850752, d: 0.02, dest: f8c0>', '<Edge w: 1.3994749203414145, d: 0.02, dest: cf50>'],\n",
       " Node at 234d12612e0 w/ Threshold: 0.8754955420348769, Leak: None, refract: 0.1, connections: ['<Edge w: 0.8429617400535099, d: 0.02, dest: c560>', '<Edge w: 0.2517277727607765, d: 0.02, dest: ec90>', '<Edge w: 0.17128376051496041, d: 0.02, dest: e870>', '<Edge w: 0.6116748365869833, d: 0.02, dest: f8c0>', '<Edge w: 1.1407227190801554, d: 0.02, dest: cf50>'],\n",
       " Node at 234d120df70 w/ Threshold: 1.5702450839130917, Leak: None, refract: 0.1, connections: ['<Edge w: 0.7432913508880952, d: 0.02, dest: c560>', '<Edge w: 1.2146755333947066, d: 0.02, dest: ec90>', '<Edge w: 0.06737645186025287, d: 0.02, dest: e870>', '<Edge w: 0.08668002481823445, d: 0.02, dest: f8c0>', '<Edge w: 0.47223890664245394, d: 0.02, dest: cf50>'],\n",
       " Node at 234d120d610 w/ Threshold: 0.39866659387594683, Leak: None, refract: 0.1, connections: ['<Edge w: 0.8802660947657659, d: 0.02, dest: c560>', '<Edge w: 1.0954925334098755, d: 0.02, dest: ec90>', '<Edge w: 1.7628657455312489, d: 0.02, dest: e870>', '<Edge w: 1.1731558980516068, d: 0.02, dest: f8c0>', '<Edge w: 0.28998086730840766, d: 0.02, dest: cf50>'],\n",
       " Node at 234d120d910 w/ Threshold: 1.8152879630048204, Leak: None, refract: 0.1, connections: ['<Edge w: 1.3053221193668172, d: 0.02, dest: c560>', '<Edge w: 0.915160176635907, d: 0.02, dest: ec90>', '<Edge w: 0.34041747638877995, d: 0.02, dest: e870>', '<Edge w: 1.41646466348172, d: 0.02, dest: f8c0>', '<Edge w: 0.02001332857321869, d: 0.02, dest: cf50>'],\n",
       " Node at 234d120c560 w/ Threshold: 0.15523362106190675, Leak: None, refract: 0.1, connections: ['<Edge w: 0.5053770363441292, d: 0.02, dest: 3380>', '<Edge w: 0.48878779583375964, d: 0.02, dest: 3ce0>', '<Edge w: 1.0318386871733214, d: 0.02, dest: 21b0>', '<Edge w: 1.6784690057963707, d: 0.02, dest: 3200>', '<Edge w: 0.9559860295306117, d: 0.02, dest: 1640>'],\n",
       " Node at 234d120ec90 w/ Threshold: 0.607116335359952, Leak: None, refract: 0.1, connections: ['<Edge w: 1.6854808762535125, d: 0.02, dest: 3380>', '<Edge w: 0.2899620821304334, d: 0.02, dest: 3ce0>', '<Edge w: 0.011722340758530292, d: 0.02, dest: 21b0>', '<Edge w: 0.31182858104369604, d: 0.02, dest: 3200>', '<Edge w: 1.4366762804538795, d: 0.02, dest: 1640>'],\n",
       " Node at 234d120e870 w/ Threshold: 0.8438203899794978, Leak: None, refract: 0.1, connections: ['<Edge w: 1.1761593547613276, d: 0.02, dest: 3380>', '<Edge w: 1.9947727915459093, d: 0.02, dest: 3ce0>', '<Edge w: 0.21907798982977345, d: 0.02, dest: 21b0>', '<Edge w: 0.9039120740327156, d: 0.02, dest: 3200>', '<Edge w: 0.45779444195963226, d: 0.02, dest: 1640>'],\n",
       " Node at 234d120f8c0 w/ Threshold: 1.2418717493524623, Leak: None, refract: 0.1, connections: ['<Edge w: 1.7183041030652, d: 0.02, dest: 3380>', '<Edge w: 1.3641191299865159, d: 0.02, dest: 3ce0>', '<Edge w: 0.8024014629787481, d: 0.02, dest: 21b0>', '<Edge w: 1.677579944294555, d: 0.02, dest: 3200>', '<Edge w: 0.2241842412658721, d: 0.02, dest: 1640>'],\n",
       " Node at 234d120cf50 w/ Threshold: 0.2540847423187973, Leak: None, refract: 0.1, connections: ['<Edge w: 1.2770262505141825, d: 0.02, dest: 3380>', '<Edge w: 1.6380035348845283, d: 0.02, dest: 3ce0>', '<Edge w: 0.23575424325770178, d: 0.02, dest: 21b0>', '<Edge w: 0.5437125286162781, d: 0.02, dest: 3200>', '<Edge w: 0.1014853937462783, d: 0.02, dest: 1640>']]"
      ]
     },
     "execution_count": 106,
     "metadata": {},
     "output_type": "execute_result"
    }
   ],
   "source": [
    "net = spynns.Network()\n",
    "\n",
    "inputs = make_layer(net, 2, threshold=0.1, refractory=0.01)\n",
    "outputs = make_layer(net, 5, threshold=1.0, refractory=0.01)\n",
    "\n",
    "h = [layer_rand(net, 5) for i in range(2)]\n",
    "\n",
    "for a, b in pairwise([inputs, *h, outputs]):\n",
    "    fully_connectw_layers(a, b, delay=0.02)\n",
    "\n",
    "# connect the output of the first node to the second node\n",
    "# inputs[0].add_output(outputs[0], weight=100, delay=1.0)\n",
    "# connect the output of the second node to the first node, creating a loop\n",
    "# outputs[0].add_output(inputs[0], weight=11, delay=0.2)\n",
    "\n",
    "nodes = inputs + outputs\n",
    "[nodes.extend(layer) for layer in h]\n",
    "nodes"
   ]
  },
  {
   "cell_type": "markdown",
   "id": "8292b0f4-ae25-4ff4-a145-ac585269a6d1",
   "metadata": {},
   "source": [
    "Here's how you can apply a spike to a node:  \n",
    "```node.apply_spike(amplitude, delay)```\n",
    "And you can run the network for any amount of time:  \n",
    "```\n",
    "net.runfor(t: float)  # runs the network for `t` seconds\n",
    "net.runtil(t: float)  # runs until the network has simulated `t` seconds total in its lifetime\n",
    "```"
   ]
  },
  {
   "cell_type": "code",
   "execution_count": 107,
   "id": "ec8540e3-4764-4872-ad94-ec789ec1d07d",
   "metadata": {
    "execution": {
     "iopub.execute_input": "2024-04-24T22:19:01.918395Z",
     "iopub.status.busy": "2024-04-24T22:19:01.918395Z",
     "iopub.status.idle": "2024-04-24T22:19:01.924395Z",
     "shell.execute_reply": "2024-04-24T22:19:01.923894Z",
     "shell.execute_reply.started": "2024-04-24T22:19:01.918395Z"
    }
   },
   "outputs": [],
   "source": [
    "\n",
    "def round_to_nearest(x, div):\n",
    "    return round(round(x / div) * div, 2)\n",
    "    \n",
    "class UnitRateEncoder:\n",
    "    def __init__(self, nodes, T, refractory=None, amplitude=1):\n",
    "        self.nodes = nodes\n",
    "        self.T = T\n",
    "        self.amplitude = amplitude\n",
    "        self.allow_zero = True\n",
    "\n",
    "        if refractory is None:\n",
    "            self.refractory = self.nodes[0].refractory\n",
    "            if not isinstance(self.refractory, float):\n",
    "                raise ValueError(\"Refractory period not specified and cannot be inferred from nodes\")\n",
    "        else:\n",
    "            self.refractory = refractory\n",
    "        \n",
    "        assert self.nmax > 0\n",
    "            \n",
    "    @property\n",
    "    def nmax(self):\n",
    "        return int(math.floor(self.T / self.refractory))\n",
    "\n",
    "    def calculate_nspikes(self, x: float):\n",
    "        x = max(0, min(1, x))  # constrain to within [0, 1]\n",
    "        x *= self.nmax + int(self.allow_zero)\n",
    "        \n",
    "\n",
    "    def apply_spikes(self, *vector, amplitude=None):\n",
    "        amplitude = self.amplitude if amplitude is None else amplitude\n",
    "        # calculate how many spikes\n",
    "        for node, x in zip(self.nodes, vector):\n",
    "            for i in range(self.n):\n",
    "                node.apply_spike(amplitude, self.refractory * i)\n",
    "        "
   ]
  },
  {
   "cell_type": "code",
   "execution_count": 108,
   "id": "01c1161b-c988-4961-8c02-bfda1d25617f",
   "metadata": {
    "execution": {
     "iopub.execute_input": "2024-04-24T22:19:02.132396Z",
     "iopub.status.busy": "2024-04-24T22:19:02.132396Z",
     "iopub.status.idle": "2024-04-24T22:19:02.135897Z",
     "shell.execute_reply": "2024-04-24T22:19:02.135397Z",
     "shell.execute_reply.started": "2024-04-24T22:19:02.132396Z"
    }
   },
   "outputs": [],
   "source": [
    "T = 1.0  # seconds encoding/decoding period\n",
    "input_encoder = UnitRateEncoder(inputs, T)\n",
    "output_encoder = UnitRateEncoder(outputs, T)  # for learning signal\n"
   ]
  },
  {
   "cell_type": "code",
   "execution_count": 112,
   "id": "45176ad8-5e81-445c-a2da-f91f8c22d74e",
   "metadata": {
    "execution": {
     "iopub.execute_input": "2024-04-24T22:19:05.325895Z",
     "iopub.status.busy": "2024-04-24T22:19:05.325396Z",
     "iopub.status.idle": "2024-04-24T22:19:05.328898Z",
     "shell.execute_reply": "2024-04-24T22:19:05.328396Z",
     "shell.execute_reply.started": "2024-04-24T22:19:05.325895Z"
    }
   },
   "outputs": [],
   "source": [
    "inputs[0].apply_spike(1)"
   ]
  },
  {
   "cell_type": "code",
   "execution_count": 113,
   "id": "5c544f37-a085-4459-8c2d-0dbc4e212c43",
   "metadata": {
    "execution": {
     "iopub.execute_input": "2024-04-24T22:19:05.531395Z",
     "iopub.status.busy": "2024-04-24T22:19:05.531395Z",
     "iopub.status.idle": "2024-04-24T22:19:05.534396Z",
     "shell.execute_reply": "2024-04-24T22:19:05.533895Z",
     "shell.execute_reply.started": "2024-04-24T22:19:05.531395Z"
    }
   },
   "outputs": [],
   "source": [
    "net.runfor(1.0)"
   ]
  },
  {
   "cell_type": "code",
   "execution_count": 114,
   "id": "119aca86-3be2-4555-b7eb-a4dbacb95d84",
   "metadata": {
    "execution": {
     "iopub.execute_input": "2024-04-24T22:19:05.773896Z",
     "iopub.status.busy": "2024-04-24T22:19:05.773896Z",
     "iopub.status.idle": "2024-04-24T22:19:05.780895Z",
     "shell.execute_reply": "2024-04-24T22:19:05.780395Z",
     "shell.execute_reply.started": "2024-04-24T22:19:05.773896Z"
    },
    "jupyter": {
     "source_hidden": true
    }
   },
   "outputs": [
    {
     "data": {
      "text/html": [
       "<table>\n",
       "<tbody>\n",
       "<tr><td>id</td><td>charge             </td><td>fires</td><td>t_lastfire</td><td>t_fires</td></tr>\n",
       "<tr><td>0 </td><td>0                  </td><td>1    </td><td>1.0       </td><td>[1.0]  </td></tr>\n",
       "<tr><td>1 </td><td>0                  </td><td>0    </td><td>nan       </td><td>[]     </td></tr>\n",
       "<tr><td>2 </td><td>0                  </td><td>0    </td><td>nan       </td><td>[]     </td></tr>\n",
       "<tr><td>3 </td><td>0                  </td><td>0    </td><td>nan       </td><td>[]     </td></tr>\n",
       "<tr><td>4 </td><td>0                  </td><td>0    </td><td>nan       </td><td>[]     </td></tr>\n",
       "<tr><td>5 </td><td>0                  </td><td>0    </td><td>nan       </td><td>[]     </td></tr>\n",
       "<tr><td>6 </td><td>0                  </td><td>0    </td><td>nan       </td><td>[]     </td></tr>\n",
       "<tr><td>7 </td><td>1.218289864797625  </td><td>0    </td><td>nan       </td><td>[]     </td></tr>\n",
       "<tr><td>8 </td><td>0.6497769066717631 </td><td>0    </td><td>nan       </td><td>[]     </td></tr>\n",
       "<tr><td>9 </td><td>0.03262789228673135</td><td>0    </td><td>nan       </td><td>[]     </td></tr>\n",
       "<tr><td>10</td><td>0.18007505160676152</td><td>0    </td><td>nan       </td><td>[]     </td></tr>\n",
       "<tr><td>11</td><td>1.6787081431598225 </td><td>0    </td><td>nan       </td><td>[]     </td></tr>\n",
       "<tr><td>12</td><td>0                  </td><td>0    </td><td>nan       </td><td>[]     </td></tr>\n",
       "<tr><td>13</td><td>0                  </td><td>0    </td><td>nan       </td><td>[]     </td></tr>\n",
       "<tr><td>14</td><td>0                  </td><td>0    </td><td>nan       </td><td>[]     </td></tr>\n",
       "<tr><td>15</td><td>0                  </td><td>0    </td><td>nan       </td><td>[]     </td></tr>\n",
       "<tr><td>16</td><td>0                  </td><td>0    </td><td>nan       </td><td>[]     </td></tr>\n",
       "</tbody>\n",
       "</table>"
      ],
      "text/plain": [
       "'<table>\\n<tbody>\\n<tr><td>id</td><td>charge             </td><td>fires</td><td>t_lastfire</td><td>t_fires</td></tr>\\n<tr><td>0 </td><td>0                  </td><td>1    </td><td>1.0       </td><td>[1.0]  </td></tr>\\n<tr><td>1 </td><td>0                  </td><td>0    </td><td>nan       </td><td>[]     </td></tr>\\n<tr><td>2 </td><td>0                  </td><td>0    </td><td>nan       </td><td>[]     </td></tr>\\n<tr><td>3 </td><td>0                  </td><td>0    </td><td>nan       </td><td>[]     </td></tr>\\n<tr><td>4 </td><td>0                  </td><td>0    </td><td>nan       </td><td>[]     </td></tr>\\n<tr><td>5 </td><td>0                  </td><td>0    </td><td>nan       </td><td>[]     </td></tr>\\n<tr><td>6 </td><td>0                  </td><td>0    </td><td>nan       </td><td>[]     </td></tr>\\n<tr><td>7 </td><td>1.218289864797625  </td><td>0    </td><td>nan       </td><td>[]     </td></tr>\\n<tr><td>8 </td><td>0.6497769066717631 </td><td>0    </td><td>nan       </td><td>[]     </td></tr>\\n<tr><td>9 </td><td>0.03262789228673135</td><td>0    </td><td>nan       </td><td>[]     </td></tr>\\n<tr><td>10</td><td>0.18007505160676152</td><td>0    </td><td>nan       </td><td>[]     </td></tr>\\n<tr><td>11</td><td>1.6787081431598225 </td><td>0    </td><td>nan       </td><td>[]     </td></tr>\\n<tr><td>12</td><td>0                  </td><td>0    </td><td>nan       </td><td>[]     </td></tr>\\n<tr><td>13</td><td>0                  </td><td>0    </td><td>nan       </td><td>[]     </td></tr>\\n<tr><td>14</td><td>0                  </td><td>0    </td><td>nan       </td><td>[]     </td></tr>\\n<tr><td>15</td><td>0                  </td><td>0    </td><td>nan       </td><td>[]     </td></tr>\\n<tr><td>16</td><td>0                  </td><td>0    </td><td>nan       </td><td>[]     </td></tr>\\n</tbody>\\n</table>'"
      ]
     },
     "execution_count": 114,
     "metadata": {},
     "output_type": "execute_result"
    }
   ],
   "source": [
    "# Show network output/state\n",
    "counts = spynns.fires(nodes)\n",
    "vectors = spynns.vectors(nodes)\n",
    "lastfires = spynns.lastfires(nodes)\n",
    "charges = spynns.charges(nodes)\n",
    "# histories = [node.history for node in nodes]\n",
    "\n",
    "data = zip(\n",
    "    range(len(counts)),\n",
    "    charges,\n",
    "    counts,\n",
    "    lastfires,\n",
    "    vectors,\n",
    "    # histories,\n",
    ")\n",
    "data = [[\n",
    "    'id',\n",
    "    'charge',\n",
    "    'fires',\n",
    "    't_lastfire',\n",
    "    't_fires',\n",
    "    # 'histories',\n",
    "]] + list(data)\n",
    "tabulate.tabulate(data, tablefmt='html')"
   ]
  },
  {
   "cell_type": "code",
   "execution_count": 61,
   "id": "dc5cf2b0-4e42-44ca-a3d2-198b61ab5919",
   "metadata": {
    "execution": {
     "iopub.execute_input": "2024-04-24T00:15:24.404454Z",
     "iopub.status.busy": "2024-04-24T00:15:24.404454Z",
     "iopub.status.idle": "2024-04-24T00:15:24.408451Z",
     "shell.execute_reply": "2024-04-24T00:15:24.407953Z",
     "shell.execute_reply.started": "2024-04-24T00:15:24.404454Z"
    }
   },
   "outputs": [
    {
     "data": {
      "text/plain": [
       "9.0"
      ]
     },
     "execution_count": 61,
     "metadata": {},
     "output_type": "execute_result"
    }
   ],
   "source": [
    "net.time  # the network time"
   ]
  },
  {
   "cell_type": "code",
   "execution_count": 62,
   "id": "8241837a-78db-42b8-be53-ca462305d500",
   "metadata": {
    "execution": {
     "iopub.execute_input": "2024-04-24T00:15:24.739953Z",
     "iopub.status.busy": "2024-04-24T00:15:24.739452Z",
     "iopub.status.idle": "2024-04-24T00:15:24.744454Z",
     "shell.execute_reply": "2024-04-24T00:15:24.743951Z",
     "shell.execute_reply.started": "2024-04-24T00:15:24.739953Z"
    }
   },
   "outputs": [
    {
     "data": {
      "text/plain": [
       "[]"
      ]
     },
     "execution_count": 62,
     "metadata": {},
     "output_type": "execute_result"
    }
   ],
   "source": [
    "net.queue  # spikes that will get processed in the future"
   ]
  },
  {
   "cell_type": "code",
   "execution_count": 63,
   "id": "27ab1512-9123-4005-b372-0a6d78b86b5d",
   "metadata": {
    "execution": {
     "iopub.execute_input": "2024-04-24T00:15:32.339958Z",
     "iopub.status.busy": "2024-04-24T00:15:32.339958Z",
     "iopub.status.idle": "2024-04-24T00:15:32.344953Z",
     "shell.execute_reply": "2024-04-24T00:15:32.344454Z",
     "shell.execute_reply.started": "2024-04-24T00:15:32.339958Z"
    }
   },
   "outputs": [
    {
     "data": {
      "text/plain": [
       "[Node at 234d12630b0 w/ Threshold: 0.1, Leak: None, refract: 0.01, connections: ['<Edge w: -0.040116884831499666, d: 0.02, dest: 7170>', '<Edge w: -0.12748398390699678, d: 0.02, dest: 72f0>', '<Edge w: -0.3426819530510401, d: 0.02, dest: 6ea0>', '<Edge w: 0.3487215879106287, d: 0.02, dest: 6c90>', '<Edge w: -0.48300642603696087, d: 0.02, dest: 6a80>'],\n",
       " Node at 234d1263b60 w/ Threshold: 0.1, Leak: None, refract: 0.01, connections: ['<Edge w: 1.3775553555490212, d: 0.02, dest: 7170>', '<Edge w: 0.8489007725277706, d: 0.02, dest: 72f0>', '<Edge w: 1.6017771451919438, d: 0.02, dest: 6ea0>', '<Edge w: 1.0428847796042242, d: 0.02, dest: 6c90>', '<Edge w: 0.20148188632857145, d: 0.02, dest: 6a80>'],\n",
       " Node at 234d12a5610 w/ Threshold: 1.0, Leak: None, refract: 0.01, connections: [],\n",
       " Node at 234d12a59d0 w/ Threshold: 1.0, Leak: None, refract: 0.01, connections: [],\n",
       " Node at 234d12a5400 w/ Threshold: 1.0, Leak: None, refract: 0.01, connections: [],\n",
       " Node at 234d12a6ed0 w/ Threshold: 1.0, Leak: None, refract: 0.01, connections: [],\n",
       " Node at 234d12a6de0 w/ Threshold: 1.0, Leak: None, refract: 0.01, connections: [],\n",
       " Node at 234d12a7170 w/ Threshold: 0.4827867172597875, Leak: None, refract: 0.1, connections: ['<Edge w: 0.3200831885847204, d: 0.02, dest: 6d20>', '<Edge w: 0.30426635979467, d: 0.02, dest: 6e40>', '<Edge w: 0.5808546480715144, d: 0.02, dest: 6cc0>', '<Edge w: 1.1038528691503517, d: 0.02, dest: 6b40>', '<Edge w: 0.31150050889422976, d: 0.02, dest: 6780>'],\n",
       " Node at 234d12a72f0 w/ Threshold: 1.9396885170384435, Leak: None, refract: 0.1, connections: ['<Edge w: 0.7411921294547181, d: 0.02, dest: 6d20>', '<Edge w: -0.026312838028298202, d: 0.02, dest: 6e40>', '<Edge w: 0.7232222632943546, d: 0.02, dest: 6cc0>', '<Edge w: 0.27913995699506633, d: 0.02, dest: 6b40>', '<Edge w: 1.3025682125236704, d: 0.02, dest: 6780>'],\n",
       " Node at 234d12a6ea0 w/ Threshold: 0.31918284216635073, Leak: None, refract: 0.1, connections: ['<Edge w: 1.0318771096122095, d: 0.02, dest: 6d20>', '<Edge w: 0.8361743949982916, d: 0.02, dest: 6e40>', '<Edge w: 0.35845257646353756, d: 0.02, dest: 6cc0>', '<Edge w: 1.0060547445390773, d: 0.02, dest: 6b40>', '<Edge w: 1.898074019326539, d: 0.02, dest: 6780>'],\n",
       " Node at 234d12a6c90 w/ Threshold: 1.689084800895535, Leak: None, refract: 0.1, connections: ['<Edge w: 0.38467252882897296, d: 0.02, dest: 6d20>', '<Edge w: -0.20893453238923065, d: 0.02, dest: 6e40>', '<Edge w: 0.21126317026410746, d: 0.02, dest: 6cc0>', '<Edge w: 0.3063922790258846, d: 0.02, dest: 6b40>', '<Edge w: -0.6385779711867285, d: 0.02, dest: 6780>'],\n",
       " Node at 234d12a6a80 w/ Threshold: 1.0927673115901166, Leak: None, refract: 0.1, connections: ['<Edge w: 1.6394103338593498, d: 0.02, dest: 6d20>', '<Edge w: 0.912463011986272, d: 0.02, dest: 6e40>', '<Edge w: 0.4071383017472634, d: 0.02, dest: 6cc0>', '<Edge w: 1.9098931160289025, d: 0.02, dest: 6b40>', '<Edge w: 1.499526426392329, d: 0.02, dest: 6780>'],\n",
       " Node at 234d12a6d20 w/ Threshold: 1.0158262536894727, Leak: None, refract: 0.1, connections: ['<Edge w: -0.15678400494123612, d: 0.02, dest: 5610>', '<Edge w: 0.0828790335669709, d: 0.02, dest: 59d0>', '<Edge w: -0.6765097138157989, d: 0.02, dest: 5400>', '<Edge w: -0.013686545961802299, d: 0.02, dest: 6ed0>', '<Edge w: -0.3002792076402563, d: 0.02, dest: 6de0>'],\n",
       " Node at 234d12a6e40 w/ Threshold: 0.07687199852276105, Leak: None, refract: 0.1, connections: ['<Edge w: -0.5719896003190137, d: 0.02, dest: 5610>', '<Edge w: -1.2801643205572673, d: 0.02, dest: 59d0>', '<Edge w: -0.16473851996327538, d: 0.02, dest: 5400>', '<Edge w: -0.30607767134269204, d: 0.02, dest: 6ed0>', '<Edge w: -0.8146313647756418, d: 0.02, dest: 6de0>'],\n",
       " Node at 234d12a6cc0 w/ Threshold: 1.4479078073630114, Leak: None, refract: 0.1, connections: ['<Edge w: 0.7186062169756318, d: 0.02, dest: 5610>', '<Edge w: 0.9594518336772764, d: 0.02, dest: 59d0>', '<Edge w: 1.2324090483608814, d: 0.02, dest: 5400>', '<Edge w: 0.4206069966635517, d: 0.02, dest: 6ed0>', '<Edge w: 1.0780966912109704, d: 0.02, dest: 6de0>'],\n",
       " Node at 234d12a6b40 w/ Threshold: 0.4710692538023131, Leak: None, refract: 0.1, connections: ['<Edge w: 0.4473023318991045, d: 0.02, dest: 5610>', '<Edge w: -1.1043392358520168, d: 0.02, dest: 59d0>', '<Edge w: -0.9356607171389684, d: 0.02, dest: 5400>', '<Edge w: 0.0945644073275691, d: 0.02, dest: 6ed0>', '<Edge w: -0.4594139942546027, d: 0.02, dest: 6de0>'],\n",
       " Node at 234d12a6780 w/ Threshold: 0.2648963354271363, Leak: None, refract: 0.1, connections: ['<Edge w: -0.010023780749148337, d: 0.02, dest: 5610>', '<Edge w: 0.19552692245720538, d: 0.02, dest: 59d0>', '<Edge w: 0.11266861999870792, d: 0.02, dest: 5400>', '<Edge w: -1.1651132931911188, d: 0.02, dest: 6ed0>', '<Edge w: 0.10688703641964192, d: 0.02, dest: 6de0>']]"
      ]
     },
     "execution_count": 63,
     "metadata": {},
     "output_type": "execute_result"
    }
   ],
   "source": [
    "nodes"
   ]
  },
  {
   "cell_type": "markdown",
   "id": "105a6aae-3202-40a0-bd29-acca8020838c",
   "metadata": {},
   "source": [
    "## Importing/exporting networks\n",
    "This is not working yet. I based this code off of an importer/exporter I wrote for Tennlab's caspian networks, and I haven't fully made it work here yet.\n",
    "The code is in the `spynns.network` module in the `network_from_json()` and `to_tennlab()` functions.\n",
    "`spynns.feedforward` has also not been fully converted over yet either.\n",
    "\n",
    "Here's how all that stuff worked in my old implementation:"
   ]
  },
  {
   "cell_type": "code",
   "execution_count": null,
   "id": "50729415-d9c4-4eb2-a2e9-b7fb2ff6327f",
   "metadata": {},
   "outputs": [],
   "source": [
    "# import from json file\n",
    "with open(\"../experiment_tenn2_tenngineered-milling.json\") as f:\n",
    "    j = json.loads(f.read())\n",
    "\n",
    "nodes, inputs, outputs = casPYan.network_from_json(j)"
   ]
  },
  {
   "cell_type": "code",
   "execution_count": null,
   "id": "1c4397d4-0af8-4c9b-9f28-32b32bd97278",
   "metadata": {},
   "outputs": [],
   "source": [
    "# export to json\n",
    "d: dict = casPYan.to_tennlab(pnodes, inputs, outputs)\n",
    "j = json.dumps(d)"
   ]
  },
  {
   "cell_type": "markdown",
   "id": "db5a2962-816f-4902-8679-a1db0f865d7a",
   "metadata": {},
   "source": [
    "## Plasticity/Backprop???\n",
    "\n",
    "I'm still theorycrafting how to do this."
   ]
  }
 ],
 "metadata": {
  "kernelspec": {
   "display_name": "Python 3 (ipykernel)",
   "language": "python",
   "name": "python3"
  },
  "language_info": {
   "codemirror_mode": {
    "name": "ipython",
    "version": 3
   },
   "file_extension": ".py",
   "mimetype": "text/x-python",
   "name": "python",
   "nbconvert_exporter": "python",
   "pygments_lexer": "ipython3",
   "version": "3.12.2"
  }
 },
 "nbformat": 4,
 "nbformat_minor": 5
}
