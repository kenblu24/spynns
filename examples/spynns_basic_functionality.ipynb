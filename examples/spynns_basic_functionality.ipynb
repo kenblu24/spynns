{
 "cells": [
  {
   "cell_type": "markdown",
   "id": "973a3993-6082-4e54-9d2d-94b0a4d5ef6b",
   "metadata": {},
   "source": [
    "## Install prerequisites"
   ]
  },
  {
   "cell_type": "code",
   "execution_count": null,
   "id": "9a0f3f43-fef6-4d62-b716-0758ae679655",
   "metadata": {},
   "outputs": [],
   "source": [
    "!pip install tabulate json"
   ]
  },
  {
   "cell_type": "code",
   "execution_count": null,
   "id": "a449a833-2fda-4edd-aca3-fc905a263e8c",
   "metadata": {},
   "outputs": [],
   "source": [
    "# Use this command to install the current directory as a python package in editable mode.\n",
    "# Run the command from the same directory as the pyproject.toml file.\n",
    "# pip install -e ."
   ]
  },
  {
   "cell_type": "code",
   "execution_count": 1,
   "id": "1938fe2f-2f14-4604-bf17-bce913eee2c3",
   "metadata": {
    "execution": {
     "iopub.execute_input": "2024-03-03T00:16:18.463319Z",
     "iopub.status.busy": "2024-03-03T00:16:18.462819Z",
     "iopub.status.idle": "2024-03-03T00:16:18.484818Z",
     "shell.execute_reply": "2024-03-03T00:16:18.484318Z",
     "shell.execute_reply.started": "2024-03-03T00:16:18.463319Z"
    }
   },
   "outputs": [],
   "source": [
    "# import stuff\n",
    "import spynns\n",
    "import tabulate\n",
    "import json\n",
    "# from IPython.core.debugger import Pdb"
   ]
  },
  {
   "cell_type": "markdown",
   "id": "e8b211cc-cde0-4e90-b824-73dc78fcae94",
   "metadata": {},
   "source": [
    "## Setup the network\n",
    "`spynns.Node(net)` creates a node and returns it for you to manipulate.\n",
    "While it registers the node to the network, you're expected to maintain\n",
    "your own references to the node so that you can control it later.\n",
    "\n",
    "As you can see, you can do this by storing every node you create in a list.\n",
    "\n",
    "The network is a directed graph, and to give it structure, you can connect the spiking output of one node to another using a connection in the form of a `spynns.Edge`.\n",
    "You can create a connection by using `net.connect(parent, child, weight, delay)`\n",
    "Or with `node.add_output(child, weight, delay)`."
   ]
  },
  {
   "cell_type": "code",
   "execution_count": 2,
   "id": "b02cad6a-240d-4dad-985e-59fd016b4791",
   "metadata": {
    "execution": {
     "iopub.execute_input": "2024-03-03T00:16:18.485819Z",
     "iopub.status.busy": "2024-03-03T00:16:18.485819Z",
     "iopub.status.idle": "2024-03-03T00:16:18.490819Z",
     "shell.execute_reply": "2024-03-03T00:16:18.489818Z",
     "shell.execute_reply.started": "2024-03-03T00:16:18.485819Z"
    }
   },
   "outputs": [],
   "source": [
    "net = spynns.Network()\n",
    "\n",
    "inputs = [spynns.Node(net, threshold=10)]\n",
    "outputs = [spynns.Node(net, threshold=10)]\n",
    "\n",
    "# connect the output of the first node to the second node\n",
    "inputs[0].add_output(outputs[0], weight=100, delay=1.0)\n",
    "# connect the output of the second node to the first node, creating a loop\n",
    "outputs[0].add_output(inputs[0], weight=11, delay=0.2)\n",
    "\n",
    "nodes = inputs + outputs"
   ]
  },
  {
   "cell_type": "markdown",
   "id": "8292b0f4-ae25-4ff4-a145-ac585269a6d1",
   "metadata": {},
   "source": [
    "Here's how you can apply a spike to a node:  \n",
    "```node.apply_spike(amplitude, delay)```\n",
    "And you can run the network for any amount of time:  \n",
    "```\n",
    "net.runfor(t: float)  # runs the network for `t` seconds\n",
    "net.runtil(t: float)  # runs until the network has simulated `t` seconds total in its lifetime\n",
    "```"
   ]
  },
  {
   "cell_type": "code",
   "execution_count": 8,
   "id": "01c1161b-c988-4961-8c02-bfda1d25617f",
   "metadata": {
    "execution": {
     "iopub.execute_input": "2024-03-04T03:30:05.848830Z",
     "iopub.status.busy": "2024-03-04T03:30:05.848332Z",
     "iopub.status.idle": "2024-03-04T03:30:05.856830Z",
     "shell.execute_reply": "2024-03-04T03:30:05.856329Z",
     "shell.execute_reply.started": "2024-03-04T03:30:05.848830Z"
    }
   },
   "outputs": [],
   "source": [
    "inputs[0].apply_spike(11)"
   ]
  },
  {
   "cell_type": "code",
   "execution_count": 4,
   "id": "5c544f37-a085-4459-8c2d-0dbc4e212c43",
   "metadata": {
    "execution": {
     "iopub.execute_input": "2024-03-03T00:16:18.497320Z",
     "iopub.status.busy": "2024-03-03T00:16:18.496818Z",
     "iopub.status.idle": "2024-03-03T00:16:18.501317Z",
     "shell.execute_reply": "2024-03-03T00:16:18.500819Z",
     "shell.execute_reply.started": "2024-03-03T00:16:18.497320Z"
    }
   },
   "outputs": [],
   "source": [
    "net.runfor(9.1)"
   ]
  },
  {
   "cell_type": "code",
   "execution_count": 5,
   "id": "119aca86-3be2-4555-b7eb-a4dbacb95d84",
   "metadata": {
    "execution": {
     "iopub.execute_input": "2024-03-03T00:16:18.502317Z",
     "iopub.status.busy": "2024-03-03T00:16:18.502317Z",
     "iopub.status.idle": "2024-03-03T00:16:18.512817Z",
     "shell.execute_reply": "2024-03-03T00:16:18.512318Z",
     "shell.execute_reply.started": "2024-03-03T00:16:18.502317Z"
    },
    "jupyter": {
     "source_hidden": true
    }
   },
   "outputs": [
    {
     "data": {
      "text/html": [
       "<table>\n",
       "<tbody>\n",
       "<tr><td>id</td><td>charge</td><td>fires</td><td>t_lastfire       </td><td>t_fires                                                                                                       </td></tr>\n",
       "<tr><td>0 </td><td>0     </td><td>8    </td><td>8.4              </td><td>[0, 1.2, 2.4000000000000004, 3.6000000000000005, 4.800000000000001, 6.000000000000001, 7.200000000000001, 8.4]</td></tr>\n",
       "<tr><td>1 </td><td>0     </td><td>7    </td><td>8.200000000000001</td><td>[1.0, 2.2, 3.4000000000000004, 4.6000000000000005, 5.800000000000001, 7.000000000000001, 8.200000000000001]   </td></tr>\n",
       "</tbody>\n",
       "</table>"
      ],
      "text/plain": [
       "'<table>\\n<tbody>\\n<tr><td>id</td><td>charge</td><td>fires</td><td>t_lastfire       </td><td>t_fires                                                                                                       </td></tr>\\n<tr><td>0 </td><td>0     </td><td>8    </td><td>8.4              </td><td>[0, 1.2, 2.4000000000000004, 3.6000000000000005, 4.800000000000001, 6.000000000000001, 7.200000000000001, 8.4]</td></tr>\\n<tr><td>1 </td><td>0     </td><td>7    </td><td>8.200000000000001</td><td>[1.0, 2.2, 3.4000000000000004, 4.6000000000000005, 5.800000000000001, 7.000000000000001, 8.200000000000001]   </td></tr>\\n</tbody>\\n</table>'"
      ]
     },
     "execution_count": 5,
     "metadata": {},
     "output_type": "execute_result"
    }
   ],
   "source": [
    "# Show network output/state\n",
    "counts = spynns.fires(nodes)\n",
    "vectors = spynns.vectors(nodes)\n",
    "lastfires = spynns.lastfires(nodes)\n",
    "charges = spynns.charges(nodes)\n",
    "# histories = [node.history for node in nodes]\n",
    "\n",
    "data = zip(\n",
    "    range(len(counts)),\n",
    "    charges,\n",
    "    counts,\n",
    "    lastfires,\n",
    "    vectors,\n",
    "    # histories,\n",
    ")\n",
    "data = [[\n",
    "    'id',\n",
    "    'charge',\n",
    "    'fires',\n",
    "    't_lastfire',\n",
    "    't_fires',\n",
    "    # 'histories',\n",
    "]] + list(data)\n",
    "tabulate.tabulate(data, tablefmt='html')"
   ]
  },
  {
   "cell_type": "code",
   "execution_count": 6,
   "id": "dc5cf2b0-4e42-44ca-a3d2-198b61ab5919",
   "metadata": {
    "execution": {
     "iopub.execute_input": "2024-03-03T00:16:18.515319Z",
     "iopub.status.busy": "2024-03-03T00:16:18.514819Z",
     "iopub.status.idle": "2024-03-03T00:16:18.519818Z",
     "shell.execute_reply": "2024-03-03T00:16:18.519317Z",
     "shell.execute_reply.started": "2024-03-03T00:16:18.514819Z"
    }
   },
   "outputs": [
    {
     "data": {
      "text/plain": [
       "9.0"
      ]
     },
     "execution_count": 6,
     "metadata": {},
     "output_type": "execute_result"
    }
   ],
   "source": [
    "net.time  # the network time"
   ]
  },
  {
   "cell_type": "code",
   "execution_count": 7,
   "id": "8241837a-78db-42b8-be53-ca462305d500",
   "metadata": {
    "execution": {
     "iopub.execute_input": "2024-03-03T00:16:18.521317Z",
     "iopub.status.busy": "2024-03-03T00:16:18.521317Z",
     "iopub.status.idle": "2024-03-03T00:16:18.527817Z",
     "shell.execute_reply": "2024-03-03T00:16:18.526817Z",
     "shell.execute_reply.started": "2024-03-03T00:16:18.521317Z"
    }
   },
   "outputs": [
    {
     "data": {
      "text/plain": [
       "[Spike(amplitude=100, time=9.4, source=Node at 19a4a653790 w/ Threshold: 10, Leak: None, refract: 0.1, connections: ['<Edge w: 100, d: 1.0, dest: 3950>'], destination=Node at 19a4a653950 w/ Threshold: 10, Leak: None, refract: 0.1, connections: ['<Edge w: 11, d: 0.2, dest: 3790>'])]"
      ]
     },
     "execution_count": 7,
     "metadata": {},
     "output_type": "execute_result"
    }
   ],
   "source": [
    "net.queue  # spikes that will get processed in the future"
   ]
  },
  {
   "cell_type": "markdown",
   "id": "105a6aae-3202-40a0-bd29-acca8020838c",
   "metadata": {},
   "source": [
    "## Importing/exporting networks\n",
    "This is not working yet. I based this code off of an importer/exporter I wrote for Tennlab's caspian networks, and I haven't fully made it work here yet.\n",
    "The code is in the `spynns.network` module in the `network_from_json()` and `to_tennlab()` functions.\n",
    "`spynns.feedforward` has also not been fully converted over yet either.\n",
    "\n",
    "Here's how all that stuff worked in my old implementation:"
   ]
  },
  {
   "cell_type": "code",
   "execution_count": null,
   "id": "50729415-d9c4-4eb2-a2e9-b7fb2ff6327f",
   "metadata": {},
   "outputs": [],
   "source": [
    "# import from json file\n",
    "with open(\"../experiment_tenn2_tenngineered-milling.json\") as f:\n",
    "    j = json.loads(f.read())\n",
    "\n",
    "nodes, inputs, outputs = casPYan.network_from_json(j)"
   ]
  },
  {
   "cell_type": "code",
   "execution_count": null,
   "id": "1c4397d4-0af8-4c9b-9f28-32b32bd97278",
   "metadata": {},
   "outputs": [],
   "source": [
    "# export to json\n",
    "d: dict = casPYan.to_tennlab(pnodes, inputs, outputs)\n",
    "j = json.dumps(d)"
   ]
  },
  {
   "cell_type": "markdown",
   "id": "db5a2962-816f-4902-8679-a1db0f865d7a",
   "metadata": {},
   "source": [
    "## Plasticity/Backprop???\n",
    "\n",
    "I'm still theorycrafting how to do this."
   ]
  }
 ],
 "metadata": {
  "kernelspec": {
   "display_name": "Python 3 (ipykernel)",
   "language": "python",
   "name": "python3"
  },
  "language_info": {
   "codemirror_mode": {
    "name": "ipython",
    "version": 3
   },
   "file_extension": ".py",
   "mimetype": "text/x-python",
   "name": "python",
   "nbconvert_exporter": "python",
   "pygments_lexer": "ipython3",
   "version": "3.12.2"
  }
 },
 "nbformat": 4,
 "nbformat_minor": 5
}
